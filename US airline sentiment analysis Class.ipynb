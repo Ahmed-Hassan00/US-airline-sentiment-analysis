{
 "cells": [
  {
   "cell_type": "markdown",
   "metadata": {},
   "source": [
    "# US airline sentiment analysis\n",
    "data https://www.kaggle.com/crowdflower/twitter-airline-sentiment\n",
    "\n",
    "the scope of this projecy to classify the tweets from US airlinr users to detemined wither it's +ve,-ne or neutral\n",
    "\n",
    "avilable data as CSV file contain tweet_id, airline_sentiment, name, text, tweet_coord, tweet_created, tweet_location, user_timezone\n",
    "\n",
    "the most importent airline_sentiment , text(feature)\n",
    "### steps\n",
    "#### read data\n",
    "#### data cleaning (punchtuation removal , case lowering , stop words removel )\n",
    "#### create bag of words\n",
    "#### select model / train\n",
    "#### Predicte and Evaluate the Model\n"
   ]
  },
  {
   "cell_type": "markdown",
   "metadata": {},
   "source": [
    "## data reading\n",
    "reading data from CSV using Pandas\n",
    "\n",
    "download CSV file to the same directory"
   ]
  },
  {
   "cell_type": "code",
   "execution_count": 2,
   "metadata": {},
   "outputs": [
    {
     "data": {
      "text/html": [
       "<div>\n",
       "<style scoped>\n",
       "    .dataframe tbody tr th:only-of-type {\n",
       "        vertical-align: middle;\n",
       "    }\n",
       "\n",
       "    .dataframe tbody tr th {\n",
       "        vertical-align: top;\n",
       "    }\n",
       "\n",
       "    .dataframe thead th {\n",
       "        text-align: right;\n",
       "    }\n",
       "</style>\n",
       "<table border=\"1\" class=\"dataframe\">\n",
       "  <thead>\n",
       "    <tr style=\"text-align: right;\">\n",
       "      <th></th>\n",
       "      <th>tweet_id</th>\n",
       "      <th>airline_sentiment</th>\n",
       "      <th>name</th>\n",
       "      <th>text</th>\n",
       "      <th>tweet_coord</th>\n",
       "      <th>tweet_created</th>\n",
       "      <th>tweet_location</th>\n",
       "      <th>user_timezone</th>\n",
       "    </tr>\n",
       "  </thead>\n",
       "  <tbody>\n",
       "    <tr>\n",
       "      <th>0</th>\n",
       "      <td>5.703060e+17</td>\n",
       "      <td>neutral</td>\n",
       "      <td>cairdin</td>\n",
       "      <td>@VirginAmerica What @dhepburn said.</td>\n",
       "      <td>NaN</td>\n",
       "      <td>2/24/2015 11:35</td>\n",
       "      <td>NaN</td>\n",
       "      <td>Eastern Time (US &amp; Canada)</td>\n",
       "    </tr>\n",
       "    <tr>\n",
       "      <th>1</th>\n",
       "      <td>5.703010e+17</td>\n",
       "      <td>positive</td>\n",
       "      <td>jnardino</td>\n",
       "      <td>@VirginAmerica plus you've added commercials t...</td>\n",
       "      <td>NaN</td>\n",
       "      <td>2/24/2015 11:15</td>\n",
       "      <td>NaN</td>\n",
       "      <td>Pacific Time (US &amp; Canada)</td>\n",
       "    </tr>\n",
       "    <tr>\n",
       "      <th>2</th>\n",
       "      <td>5.703010e+17</td>\n",
       "      <td>neutral</td>\n",
       "      <td>yvonnalynn</td>\n",
       "      <td>@VirginAmerica I didn't today... Must mean I n...</td>\n",
       "      <td>NaN</td>\n",
       "      <td>2/24/2015 11:15</td>\n",
       "      <td>Lets Play</td>\n",
       "      <td>Central Time (US &amp; Canada)</td>\n",
       "    </tr>\n",
       "    <tr>\n",
       "      <th>3</th>\n",
       "      <td>5.703010e+17</td>\n",
       "      <td>negative</td>\n",
       "      <td>jnardino</td>\n",
       "      <td>@VirginAmerica it's really aggressive to blast...</td>\n",
       "      <td>NaN</td>\n",
       "      <td>2/24/2015 11:15</td>\n",
       "      <td>NaN</td>\n",
       "      <td>Pacific Time (US &amp; Canada)</td>\n",
       "    </tr>\n",
       "    <tr>\n",
       "      <th>4</th>\n",
       "      <td>5.703010e+17</td>\n",
       "      <td>negative</td>\n",
       "      <td>jnardino</td>\n",
       "      <td>@VirginAmerica and it's a really big bad thing...</td>\n",
       "      <td>NaN</td>\n",
       "      <td>2/24/2015 11:14</td>\n",
       "      <td>NaN</td>\n",
       "      <td>Pacific Time (US &amp; Canada)</td>\n",
       "    </tr>\n",
       "  </tbody>\n",
       "</table>\n",
       "</div>"
      ],
      "text/plain": [
       "       tweet_id airline_sentiment        name  \\\n",
       "0  5.703060e+17           neutral     cairdin   \n",
       "1  5.703010e+17          positive    jnardino   \n",
       "2  5.703010e+17           neutral  yvonnalynn   \n",
       "3  5.703010e+17          negative    jnardino   \n",
       "4  5.703010e+17          negative    jnardino   \n",
       "\n",
       "                                                text tweet_coord  \\\n",
       "0                @VirginAmerica What @dhepburn said.         NaN   \n",
       "1  @VirginAmerica plus you've added commercials t...         NaN   \n",
       "2  @VirginAmerica I didn't today... Must mean I n...         NaN   \n",
       "3  @VirginAmerica it's really aggressive to blast...         NaN   \n",
       "4  @VirginAmerica and it's a really big bad thing...         NaN   \n",
       "\n",
       "     tweet_created tweet_location               user_timezone  \n",
       "0  2/24/2015 11:35            NaN  Eastern Time (US & Canada)  \n",
       "1  2/24/2015 11:15            NaN  Pacific Time (US & Canada)  \n",
       "2  2/24/2015 11:15      Lets Play  Central Time (US & Canada)  \n",
       "3  2/24/2015 11:15            NaN  Pacific Time (US & Canada)  \n",
       "4  2/24/2015 11:14            NaN  Pacific Time (US & Canada)  "
      ]
     },
     "execution_count": 2,
     "metadata": {},
     "output_type": "execute_result"
    }
   ],
   "source": [
    "import pandas as pd\n",
    "\n",
    "file_path = './Tweets.csv' \n",
    "tweets_data=pd.read_csv(file_path)\n",
    "\n",
    "tweets_data.head()"
   ]
  },
  {
   "cell_type": "markdown",
   "metadata": {},
   "source": [
    "### Cleaning Process\n",
    "remove punc.,special characters,tags and mentions,links, extra spaces\n",
    "\n",
    "lowering all letters "
   ]
  },
  {
   "cell_type": "code",
   "execution_count": 3,
   "metadata": {},
   "outputs": [],
   "source": [
    "import string\n",
    "import re\n",
    "\n",
    "def clean_steps(text):\n",
    "    text = re.sub (r'@[A-za-z0-9]+','',text) #remve tags and mentions \n",
    "    text = re.sub (r'https?://[A-za-z0-9]+','',text) # remove any \n",
    "    \n",
    "    text = re.sub('[‘’“”…]', ' ', text)\n",
    "    text = text.lower()\n",
    "    text = re.sub('\\[*.?\\@]', '', text)\n",
    "    text = re.sub('[%s]' % re.escape(string.punctuation), '', text)\n",
    "    text = re.sub('\\w*\\d\\w*', '', text)   \n",
    "    text = re.sub('\\n', '', text)\n",
    "    \n",
    "    return text\n",
    "\n",
    "clean_process = lambda x: clean_steps(x)"
   ]
  },
  {
   "cell_type": "code",
   "execution_count": 4,
   "metadata": {},
   "outputs": [
    {
     "data": {
      "text/html": [
       "<div>\n",
       "<style scoped>\n",
       "    .dataframe tbody tr th:only-of-type {\n",
       "        vertical-align: middle;\n",
       "    }\n",
       "\n",
       "    .dataframe tbody tr th {\n",
       "        vertical-align: top;\n",
       "    }\n",
       "\n",
       "    .dataframe thead th {\n",
       "        text-align: right;\n",
       "    }\n",
       "</style>\n",
       "<table border=\"1\" class=\"dataframe\">\n",
       "  <thead>\n",
       "    <tr style=\"text-align: right;\">\n",
       "      <th></th>\n",
       "      <th>cleaned_punch</th>\n",
       "    </tr>\n",
       "  </thead>\n",
       "  <tbody>\n",
       "    <tr>\n",
       "      <th>0</th>\n",
       "      <td>what  said</td>\n",
       "    </tr>\n",
       "    <tr>\n",
       "      <th>1</th>\n",
       "      <td>plus youve added commercials to the experienc...</td>\n",
       "    </tr>\n",
       "    <tr>\n",
       "      <th>2</th>\n",
       "      <td>i didnt today must mean i need to take anothe...</td>\n",
       "    </tr>\n",
       "    <tr>\n",
       "      <th>3</th>\n",
       "      <td>its really aggressive to blast obnoxious ente...</td>\n",
       "    </tr>\n",
       "    <tr>\n",
       "      <th>4</th>\n",
       "      <td>and its a really big bad thing about it</td>\n",
       "    </tr>\n",
       "  </tbody>\n",
       "</table>\n",
       "</div>"
      ],
      "text/plain": [
       "                                       cleaned_punch\n",
       "0                                         what  said\n",
       "1   plus youve added commercials to the experienc...\n",
       "2   i didnt today must mean i need to take anothe...\n",
       "3   its really aggressive to blast obnoxious ente...\n",
       "4            and its a really big bad thing about it"
      ]
     },
     "execution_count": 4,
     "metadata": {},
     "output_type": "execute_result"
    }
   ],
   "source": [
    "tweets_txt = tweets_data.drop(['tweet_id','name','tweet_coord','tweet_created','tweet_location','user_timezone'],axis=1)\n",
    "\n",
    "tweets_txt_cleaned = pd.DataFrame(tweets_txt.text.apply(clean_process))\n",
    "tweets_txt_cleaned.columns = ['cleaned_punch']\n",
    "tweets_txt_cleaned.head()"
   ]
  },
  {
   "cell_type": "markdown",
   "metadata": {},
   "source": [
    "## remove redundent words\n",
    "Stop Words he,she,it,there.this....etc\n",
    "\n",
    "stemming words to reduce no. of words that give the same meading (added -> add)\n"
   ]
  },
  {
   "cell_type": "code",
   "execution_count": 5,
   "metadata": {},
   "outputs": [],
   "source": [
    "import nltk \n",
    "\n",
    "def stemmin_steps(text):\n",
    "    \n",
    "    stemmer = nltk.PorterStemmer()\n",
    "    \n",
    "    word_tokens = nltk.tokenize.word_tokenize(text)\n",
    "    \n",
    "    out_text = [stemmer.stem(word) for word in word_tokens]      \n",
    "    return out_text\n",
    "\n",
    "stemmin_process = lambda x: stemmin_steps(x)\n"
   ]
  },
  {
   "cell_type": "code",
   "execution_count": 6,
   "metadata": {},
   "outputs": [
    {
     "data": {
      "text/html": [
       "<div>\n",
       "<style scoped>\n",
       "    .dataframe tbody tr th:only-of-type {\n",
       "        vertical-align: middle;\n",
       "    }\n",
       "\n",
       "    .dataframe tbody tr th {\n",
       "        vertical-align: top;\n",
       "    }\n",
       "\n",
       "    .dataframe thead th {\n",
       "        text-align: right;\n",
       "    }\n",
       "</style>\n",
       "<table border=\"1\" class=\"dataframe\">\n",
       "  <thead>\n",
       "    <tr style=\"text-align: right;\">\n",
       "      <th></th>\n",
       "      <th>stemmed_token</th>\n",
       "    </tr>\n",
       "  </thead>\n",
       "  <tbody>\n",
       "    <tr>\n",
       "      <th>0</th>\n",
       "      <td>[what, said]</td>\n",
       "    </tr>\n",
       "    <tr>\n",
       "      <th>1</th>\n",
       "      <td>[plu, youv, ad, commerci, to, the, experi, tacki]</td>\n",
       "    </tr>\n",
       "    <tr>\n",
       "      <th>2</th>\n",
       "      <td>[i, didnt, today, must, mean, i, need, to, tak...</td>\n",
       "    </tr>\n",
       "    <tr>\n",
       "      <th>3</th>\n",
       "      <td>[it, realli, aggress, to, blast, obnoxi, enter...</td>\n",
       "    </tr>\n",
       "    <tr>\n",
       "      <th>4</th>\n",
       "      <td>[and, it, a, realli, big, bad, thing, about, it]</td>\n",
       "    </tr>\n",
       "  </tbody>\n",
       "</table>\n",
       "</div>"
      ],
      "text/plain": [
       "                                       stemmed_token\n",
       "0                                       [what, said]\n",
       "1  [plu, youv, ad, commerci, to, the, experi, tacki]\n",
       "2  [i, didnt, today, must, mean, i, need, to, tak...\n",
       "3  [it, realli, aggress, to, blast, obnoxi, enter...\n",
       "4   [and, it, a, realli, big, bad, thing, about, it]"
      ]
     },
     "execution_count": 6,
     "metadata": {},
     "output_type": "execute_result"
    }
   ],
   "source": [
    "tweets_stem = pd.DataFrame(tweets_txt_cleaned.cleaned_punch.apply(stemmin_process))\n",
    "tweets_stem.columns = ['stemmed_token']\n",
    "tweets_stem.head()"
   ]
  },
  {
   "cell_type": "code",
   "execution_count": 7,
   "metadata": {},
   "outputs": [],
   "source": [
    "def remove_stop_words(text_token):\n",
    "    \n",
    "    stop_words = set(nltk.corpus.stopwords.words('english')) \n",
    "        \n",
    "    out_text = [w for w in text_token if not w in stop_words]\n",
    "  \n",
    "    return out_text\n",
    "\n",
    "removing_stop_words = lambda x: remove_stop_words(x)"
   ]
  },
  {
   "cell_type": "code",
   "execution_count": 8,
   "metadata": {},
   "outputs": [
    {
     "data": {
      "text/html": [
       "<div>\n",
       "<style scoped>\n",
       "    .dataframe tbody tr th:only-of-type {\n",
       "        vertical-align: middle;\n",
       "    }\n",
       "\n",
       "    .dataframe tbody tr th {\n",
       "        vertical-align: top;\n",
       "    }\n",
       "\n",
       "    .dataframe thead th {\n",
       "        text-align: right;\n",
       "    }\n",
       "</style>\n",
       "<table border=\"1\" class=\"dataframe\">\n",
       "  <thead>\n",
       "    <tr style=\"text-align: right;\">\n",
       "      <th></th>\n",
       "      <th>filtered_token</th>\n",
       "    </tr>\n",
       "  </thead>\n",
       "  <tbody>\n",
       "    <tr>\n",
       "      <th>0</th>\n",
       "      <td>[said]</td>\n",
       "    </tr>\n",
       "    <tr>\n",
       "      <th>1</th>\n",
       "      <td>[plu, youv, ad, commerci, experi, tacki]</td>\n",
       "    </tr>\n",
       "    <tr>\n",
       "      <th>2</th>\n",
       "      <td>[didnt, today, must, mean, need, take, anoth, ...</td>\n",
       "    </tr>\n",
       "    <tr>\n",
       "      <th>3</th>\n",
       "      <td>[realli, aggress, blast, obnoxi, entertain, gu...</td>\n",
       "    </tr>\n",
       "    <tr>\n",
       "      <th>4</th>\n",
       "      <td>[realli, big, bad, thing]</td>\n",
       "    </tr>\n",
       "  </tbody>\n",
       "</table>\n",
       "</div>"
      ],
      "text/plain": [
       "                                      filtered_token\n",
       "0                                             [said]\n",
       "1           [plu, youv, ad, commerci, experi, tacki]\n",
       "2  [didnt, today, must, mean, need, take, anoth, ...\n",
       "3  [realli, aggress, blast, obnoxi, entertain, gu...\n",
       "4                          [realli, big, bad, thing]"
      ]
     },
     "execution_count": 8,
     "metadata": {},
     "output_type": "execute_result"
    }
   ],
   "source": [
    "tweets_filtered = pd.DataFrame(tweets_stem.stemmed_token.apply(removing_stop_words))\n",
    "tweets_filtered.columns = ['filtered_token']\n",
    "tweets_filtered.head()"
   ]
  },
  {
   "cell_type": "markdown",
   "metadata": {},
   "source": [
    "### Bag of words / feature Vector\n",
    "use the most freq. words as a bag of word then create feacture vector using this words \n",
    "get token and check unique wods after stemming \n"
   ]
  },
  {
   "cell_type": "code",
   "execution_count": 9,
   "metadata": {},
   "outputs": [
    {
     "name": "stdout",
     "output_type": "stream",
     "text": [
      "tweets_stem_len = 10132\n",
      "tweets_filtered_len = 10014\n"
     ]
    }
   ],
   "source": [
    "import itertools\n",
    "\n",
    "def uniqe_words(coloum):\n",
    "    return len(set (list(itertools.chain.from_iterable(coloum))))\n",
    "\n",
    "tweets_stem_len        = uniqe_words(tweets_stem['stemmed_token'])\n",
    "tweets_filtered_len    = uniqe_words(tweets_filtered['filtered_token'])\n",
    "\n",
    "print ('tweets_stem_len = '+str(tweets_stem_len))\n",
    "print ('tweets_filtered_len = '+str(tweets_filtered_len))"
   ]
  },
  {
   "cell_type": "code",
   "execution_count": 10,
   "metadata": {},
   "outputs": [],
   "source": [
    "from sklearn.feature_extraction.text import CountVectorizer\n",
    "def dummy_vec(txt):\n",
    "    return txt\n",
    "vectorizer = CountVectorizer( tokenizer=dummy_vec ,preprocessor=dummy_vec,max_features=2500, min_df=10, max_df=0.8)\n",
    "\n",
    "feature_vectore= vectorizer.fit_transform(tweets_filtered['filtered_token']).toarray() "
   ]
  },
  {
   "cell_type": "markdown",
   "metadata": {},
   "source": [
    "change the out put value from string to numbers\n",
    "maybe used later on\n"
   ]
  },
  {
   "cell_type": "code",
   "execution_count": 11,
   "metadata": {},
   "outputs": [],
   "source": [
    "def enum_out(text):\n",
    "    num =0\n",
    "    if text == \"negative\":\n",
    "        num =-1\n",
    "    elif text == \"positive\":\n",
    "        num = 1\n",
    "    return num\n",
    "enuming_out = lambda x:enum_out(x)\n",
    "y_val = pd.DataFrame(tweets_txt.airline_sentiment.apply(enuming_out))"
   ]
  },
  {
   "cell_type": "markdown",
   "metadata": {},
   "source": [
    "splitting the data to Test & train (70%-30%) "
   ]
  },
  {
   "cell_type": "code",
   "execution_count": 12,
   "metadata": {},
   "outputs": [],
   "source": [
    "from sklearn.model_selection import train_test_split\n",
    "X_train, X_test, y_train, y_test = train_test_split(feature_vectore,y_val,test_size=0.3,random_state=101)"
   ]
  },
  {
   "cell_type": "markdown",
   "metadata": {},
   "source": [
    "### create the Classifier using Random Forest"
   ]
  },
  {
   "cell_type": "code",
   "execution_count": 13,
   "metadata": {},
   "outputs": [
    {
     "data": {
      "text/plain": [
       "RandomForestClassifier(bootstrap=True, class_weight=None, criterion='gini',\n",
       "            max_depth=None, max_features='auto', max_leaf_nodes=None,\n",
       "            min_impurity_decrease=0.0, min_impurity_split=None,\n",
       "            min_samples_leaf=1, min_samples_split=2,\n",
       "            min_weight_fraction_leaf=0.0, n_estimators=200, n_jobs=1,\n",
       "            oob_score=False, random_state=0, verbose=0, warm_start=False)"
      ]
     },
     "execution_count": 13,
     "metadata": {},
     "output_type": "execute_result"
    }
   ],
   "source": [
    "from sklearn.ensemble import RandomForestClassifier\n",
    "\n",
    "text_classifier = RandomForestClassifier(n_estimators=200, random_state=0)  \n",
    "text_classifier.fit(X_train, y_train.values.ravel())  \n"
   ]
  },
  {
   "cell_type": "markdown",
   "metadata": {},
   "source": [
    "create func to view the acc. of the model\n"
   ]
  },
  {
   "cell_type": "code",
   "execution_count": 15,
   "metadata": {},
   "outputs": [],
   "source": [
    "from sklearn.metrics import classification_report, confusion_matrix, accuracy_score\n",
    "def get_pred(x_test,y_test,model):\n",
    "    predictions = model.predict(X_test) \n",
    "    print(confusion_matrix(y_test,predictions))  \n",
    "    print(classification_report(y_test,predictions))  \n",
    "    print(accuracy_score(y_test, predictions))  "
   ]
  },
  {
   "cell_type": "code",
   "execution_count": 16,
   "metadata": {},
   "outputs": [
    {
     "name": "stdout",
     "output_type": "stream",
     "text": [
      "[[2451  194   93]\n",
      " [ 407  438  102]\n",
      " [ 210   75  422]]\n",
      "             precision    recall  f1-score   support\n",
      "\n",
      "         -1       0.80      0.90      0.84      2738\n",
      "          0       0.62      0.46      0.53       947\n",
      "          1       0.68      0.60      0.64       707\n",
      "\n",
      "avg / total       0.74      0.75      0.74      4392\n",
      "\n",
      "0.7538706739526412\n"
     ]
    }
   ],
   "source": [
    "get_pred(X_test,y_test,text_classifier)"
   ]
  }
 ],
 "metadata": {
  "kernelspec": {
   "display_name": "Python 3",
   "language": "python",
   "name": "python3"
  },
  "language_info": {
   "codemirror_mode": {
    "name": "ipython",
    "version": 3
   },
   "file_extension": ".py",
   "mimetype": "text/x-python",
   "name": "python",
   "nbconvert_exporter": "python",
   "pygments_lexer": "ipython3",
   "version": "3.5.5"
  }
 },
 "nbformat": 4,
 "nbformat_minor": 2
}
